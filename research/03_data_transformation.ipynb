{
 "cells": [
  {
   "cell_type": "code",
   "execution_count": 1,
   "id": "edc5c9ba",
   "metadata": {},
   "outputs": [],
   "source": [
    "import os"
   ]
  },
  {
   "cell_type": "code",
   "execution_count": 2,
   "id": "86666561",
   "metadata": {},
   "outputs": [
    {
     "data": {
      "text/plain": [
       "'e:\\\\ML_Projects\\\\Wine_Quality_Project\\\\research'"
      ]
     },
     "execution_count": 2,
     "metadata": {},
     "output_type": "execute_result"
    }
   ],
   "source": [
    "%pwd"
   ]
  },
  {
   "cell_type": "code",
   "execution_count": 3,
   "id": "918917ae",
   "metadata": {},
   "outputs": [],
   "source": [
    "os.chdir(\"../\")"
   ]
  },
  {
   "cell_type": "code",
   "execution_count": 4,
   "id": "91e1a3b5",
   "metadata": {},
   "outputs": [
    {
     "data": {
      "text/plain": [
       "'e:\\\\ML_Projects\\\\Wine_Quality_Project'"
      ]
     },
     "execution_count": 4,
     "metadata": {},
     "output_type": "execute_result"
    }
   ],
   "source": [
    "%pwd"
   ]
  },
  {
   "cell_type": "code",
   "execution_count": 5,
   "id": "67fe520c",
   "metadata": {},
   "outputs": [],
   "source": [
    "import pandas as pd"
   ]
  },
  {
   "cell_type": "code",
   "execution_count": 6,
   "id": "e0a23a8b",
   "metadata": {},
   "outputs": [
    {
     "data": {
      "application/vnd.microsoft.datawrangler.viewer.v0+json": {
       "columns": [
        {
         "name": "index",
         "rawType": "int64",
         "type": "integer"
        },
        {
         "name": "fixed acidity",
         "rawType": "float64",
         "type": "float"
        },
        {
         "name": "volatile acidity",
         "rawType": "float64",
         "type": "float"
        },
        {
         "name": "citric acid",
         "rawType": "float64",
         "type": "float"
        },
        {
         "name": "residual sugar",
         "rawType": "float64",
         "type": "float"
        },
        {
         "name": "chlorides",
         "rawType": "float64",
         "type": "float"
        },
        {
         "name": "free sulfur dioxide",
         "rawType": "float64",
         "type": "float"
        },
        {
         "name": "total sulfur dioxide",
         "rawType": "float64",
         "type": "float"
        },
        {
         "name": "density",
         "rawType": "float64",
         "type": "float"
        },
        {
         "name": "pH",
         "rawType": "float64",
         "type": "float"
        },
        {
         "name": "sulphates",
         "rawType": "float64",
         "type": "float"
        },
        {
         "name": "alcohol",
         "rawType": "float64",
         "type": "float"
        },
        {
         "name": "quality",
         "rawType": "int64",
         "type": "integer"
        }
       ],
       "ref": "02932acf-0290-4144-b696-df96b549549e",
       "rows": [
        [
         "0",
         "7.4",
         "0.7",
         "0.0",
         "1.9",
         "0.076",
         "11.0",
         "34.0",
         "0.9978",
         "3.51",
         "0.56",
         "9.4",
         "5"
        ],
        [
         "1",
         "7.8",
         "0.88",
         "0.0",
         "2.6",
         "0.098",
         "25.0",
         "67.0",
         "0.9968",
         "3.2",
         "0.68",
         "9.8",
         "5"
        ],
        [
         "2",
         "7.8",
         "0.76",
         "0.04",
         "2.3",
         "0.092",
         "15.0",
         "54.0",
         "0.997",
         "3.26",
         "0.65",
         "9.8",
         "5"
        ],
        [
         "3",
         "11.2",
         "0.28",
         "0.56",
         "1.9",
         "0.075",
         "17.0",
         "60.0",
         "0.998",
         "3.16",
         "0.58",
         "9.8",
         "6"
        ],
        [
         "4",
         "7.4",
         "0.7",
         "0.0",
         "1.9",
         "0.076",
         "11.0",
         "34.0",
         "0.9978",
         "3.51",
         "0.56",
         "9.4",
         "5"
        ]
       ],
       "shape": {
        "columns": 12,
        "rows": 5
       }
      },
      "text/html": [
       "<div>\n",
       "<style scoped>\n",
       "    .dataframe tbody tr th:only-of-type {\n",
       "        vertical-align: middle;\n",
       "    }\n",
       "\n",
       "    .dataframe tbody tr th {\n",
       "        vertical-align: top;\n",
       "    }\n",
       "\n",
       "    .dataframe thead th {\n",
       "        text-align: right;\n",
       "    }\n",
       "</style>\n",
       "<table border=\"1\" class=\"dataframe\">\n",
       "  <thead>\n",
       "    <tr style=\"text-align: right;\">\n",
       "      <th></th>\n",
       "      <th>fixed acidity</th>\n",
       "      <th>volatile acidity</th>\n",
       "      <th>citric acid</th>\n",
       "      <th>residual sugar</th>\n",
       "      <th>chlorides</th>\n",
       "      <th>free sulfur dioxide</th>\n",
       "      <th>total sulfur dioxide</th>\n",
       "      <th>density</th>\n",
       "      <th>pH</th>\n",
       "      <th>sulphates</th>\n",
       "      <th>alcohol</th>\n",
       "      <th>quality</th>\n",
       "    </tr>\n",
       "  </thead>\n",
       "  <tbody>\n",
       "    <tr>\n",
       "      <th>0</th>\n",
       "      <td>7.4</td>\n",
       "      <td>0.70</td>\n",
       "      <td>0.00</td>\n",
       "      <td>1.9</td>\n",
       "      <td>0.076</td>\n",
       "      <td>11.0</td>\n",
       "      <td>34.0</td>\n",
       "      <td>0.9978</td>\n",
       "      <td>3.51</td>\n",
       "      <td>0.56</td>\n",
       "      <td>9.4</td>\n",
       "      <td>5</td>\n",
       "    </tr>\n",
       "    <tr>\n",
       "      <th>1</th>\n",
       "      <td>7.8</td>\n",
       "      <td>0.88</td>\n",
       "      <td>0.00</td>\n",
       "      <td>2.6</td>\n",
       "      <td>0.098</td>\n",
       "      <td>25.0</td>\n",
       "      <td>67.0</td>\n",
       "      <td>0.9968</td>\n",
       "      <td>3.20</td>\n",
       "      <td>0.68</td>\n",
       "      <td>9.8</td>\n",
       "      <td>5</td>\n",
       "    </tr>\n",
       "    <tr>\n",
       "      <th>2</th>\n",
       "      <td>7.8</td>\n",
       "      <td>0.76</td>\n",
       "      <td>0.04</td>\n",
       "      <td>2.3</td>\n",
       "      <td>0.092</td>\n",
       "      <td>15.0</td>\n",
       "      <td>54.0</td>\n",
       "      <td>0.9970</td>\n",
       "      <td>3.26</td>\n",
       "      <td>0.65</td>\n",
       "      <td>9.8</td>\n",
       "      <td>5</td>\n",
       "    </tr>\n",
       "    <tr>\n",
       "      <th>3</th>\n",
       "      <td>11.2</td>\n",
       "      <td>0.28</td>\n",
       "      <td>0.56</td>\n",
       "      <td>1.9</td>\n",
       "      <td>0.075</td>\n",
       "      <td>17.0</td>\n",
       "      <td>60.0</td>\n",
       "      <td>0.9980</td>\n",
       "      <td>3.16</td>\n",
       "      <td>0.58</td>\n",
       "      <td>9.8</td>\n",
       "      <td>6</td>\n",
       "    </tr>\n",
       "    <tr>\n",
       "      <th>4</th>\n",
       "      <td>7.4</td>\n",
       "      <td>0.70</td>\n",
       "      <td>0.00</td>\n",
       "      <td>1.9</td>\n",
       "      <td>0.076</td>\n",
       "      <td>11.0</td>\n",
       "      <td>34.0</td>\n",
       "      <td>0.9978</td>\n",
       "      <td>3.51</td>\n",
       "      <td>0.56</td>\n",
       "      <td>9.4</td>\n",
       "      <td>5</td>\n",
       "    </tr>\n",
       "  </tbody>\n",
       "</table>\n",
       "</div>"
      ],
      "text/plain": [
       "   fixed acidity  volatile acidity  citric acid  residual sugar  chlorides  \\\n",
       "0            7.4              0.70         0.00             1.9      0.076   \n",
       "1            7.8              0.88         0.00             2.6      0.098   \n",
       "2            7.8              0.76         0.04             2.3      0.092   \n",
       "3           11.2              0.28         0.56             1.9      0.075   \n",
       "4            7.4              0.70         0.00             1.9      0.076   \n",
       "\n",
       "   free sulfur dioxide  total sulfur dioxide  density    pH  sulphates  \\\n",
       "0                 11.0                  34.0   0.9978  3.51       0.56   \n",
       "1                 25.0                  67.0   0.9968  3.20       0.68   \n",
       "2                 15.0                  54.0   0.9970  3.26       0.65   \n",
       "3                 17.0                  60.0   0.9980  3.16       0.58   \n",
       "4                 11.0                  34.0   0.9978  3.51       0.56   \n",
       "\n",
       "   alcohol  quality  \n",
       "0      9.4        5  \n",
       "1      9.8        5  \n",
       "2      9.8        5  \n",
       "3      9.8        6  \n",
       "4      9.4        5  "
      ]
     },
     "execution_count": 6,
     "metadata": {},
     "output_type": "execute_result"
    }
   ],
   "source": [
    "data = pd.read_csv(\"artifacts\\data_ingestion\\winequality-red.csv\")\n",
    "data.head()"
   ]
  },
  {
   "cell_type": "code",
   "execution_count": 7,
   "id": "51a3fa24",
   "metadata": {},
   "outputs": [],
   "source": [
    "# this code belong from entity/config_entity.py file\n",
    "\n",
    "from dataclasses import dataclass\n",
    "from pathlib import Path\n",
    "\n",
    "@dataclass(frozen=True)\n",
    "class DataTransformationConfig:\n",
    "    root_dir: Path\n",
    "    data_path: Path"
   ]
  },
  {
   "cell_type": "code",
   "execution_count": 8,
   "id": "ff6d97de",
   "metadata": {},
   "outputs": [],
   "source": [
    "# this code belong from config/configuration.py file\n",
    "\n",
    "from mlProject.constants import *\n",
    "from mlProject.utils.common import read_yaml, create_directories\n",
    "\n",
    "class ConfigurationManager:\n",
    "    def __init__(\n",
    "        self,\n",
    "        config_filepath = CONFIG_FILE_PATH,\n",
    "        params_filepath = PARAMS_FILE_PATH,\n",
    "        schema_filepath = SCHEMA_FILE_PATH):\n",
    "        \n",
    "        self.config = read_yaml(config_filepath)\n",
    "        self.params = read_yaml(params_filepath)  \n",
    "        self.schema = read_yaml(schema_filepath)\n",
    "        \n",
    "        create_directories([self.config.artifacts_root])\n",
    "        \n",
    "    def get_data_transformation_config(self) -> DataTransformationConfig:\n",
    "        config = self.config.data_transformation\n",
    "        \n",
    "        create_directories([config.root_dir])\n",
    "        \n",
    "        data_transformation_config = DataTransformationConfig(\n",
    "            root_dir = config.root_dir,\n",
    "            data_path = config.data_path, \n",
    "        )\n",
    "        \n",
    "        return data_transformation_config\n",
    "        \n",
    "# from mlProject.constants import CONFIG_FILE_PATH, PARAMS_FILE_PATH, SCHEMA_FILE_PATH\n",
    "# from mlProject.utils.common import read_yaml, create_directories\n",
    "# # from mlProject.entity.config_entity import DataTransformationConfig  # assuming this is the correct import\n",
    "\n",
    "# class ConfigurationManager:\n",
    "#     def __init__(\n",
    "#         self,\n",
    "#         config_filepath: str = CONFIG_FILE_PATH,\n",
    "#         params_filepath: str = PARAMS_FILE_PATH,\n",
    "#         schema_filepath: str = SCHEMA_FILE_PATH\n",
    "#     ):\n",
    "#         \"\"\"\n",
    "#         Initialize ConfigurationManager: Read config, params, and schema YAML files.\n",
    "#         \"\"\"\n",
    "#         self.config = read_yaml(config_filepath)\n",
    "#         self.params = read_yaml(params_filepath)\n",
    "#         self.schema = read_yaml(schema_filepath)\n",
    "\n",
    "#         # Create artifacts root directory if not exist\n",
    "#         create_directories([self.config.artifacts_root])\n",
    "\n",
    "#     def get_data_transformation_config(self) -> DataTransformationConfig:\n",
    "#         \"\"\"\n",
    "#         Prepare and return configuration for data transformation component.\n",
    "#         \"\"\"\n",
    "#         config = self.config.data_transformation\n",
    "\n",
    "#         # Ensure root directory for data transformation exists\n",
    "#         create_directories([config.root_dir])\n",
    "\n",
    "#         # Return structured config entity\n",
    "#         return DataTransformationConfig(\n",
    "#             root_dir=config.root_dir,\n",
    "#             data_path=config.data_path\n",
    "#         )\n",
    "       \n",
    "         "
   ]
  },
  {
   "cell_type": "code",
   "execution_count": 9,
   "id": "9fb85166",
   "metadata": {},
   "outputs": [],
   "source": [
    "# this code belong from component/data_transformation.py file\n",
    "\n",
    "import os \n",
    "from mlProject import logger\n",
    "from sklearn.model_selection import train_test_split\n",
    "import pandas as pd\n",
    "\n",
    "class DataTransformation:\n",
    "    def __init__(self, config: DataTransformationConfig):\n",
    "        self.config = config\n",
    "        \n",
    "    ## Note: you can add different data transformation techniques such as Scaler, PCA and all\n",
    "    ## you can perform all kinds of EDA in ML cycle here before passing this data to the model\n",
    "    \n",
    "    # I am only adding train_test_spliting  because this data is already cleaned\n",
    "    \n",
    "    def train_test_spliting(self):\n",
    "        data = pd.read_csv(self.config.data_path)\n",
    "        \n",
    "        # Split the data into training and test sets. (0.75, 0.25) split.\n",
    "        train, test = train_test_split(data)\n",
    "        \n",
    "        train.to_csv(os.path.join(self.config.root_dir, \"train.csv\"), index = False)\n",
    "        test.to_csv(os.path.join(self.config.root_dir, \"test.csv\"), index = False)\n",
    "        \n",
    "        logger.info(\"Splited data into training and test sets\")\n",
    "        logger.info(train.shape)\n",
    "        logger.info(test.shape)\n",
    "        \n",
    "        print(train.shape)\n",
    "        print(test.shape)\n",
    "\n",
    "# import os\n",
    "# from mlProject import logger\n",
    "# from sklearn.model_selection import train_test_split\n",
    "# import pandas as pd\n",
    "# from sklearn.preprocessing import MinMaxScaler\n",
    "# from sklearn.decomposition import PCA\n",
    "\n",
    "# class DataTransformation:\n",
    "#     def __init__(self, config: DataTransformationConfig):\n",
    "#         self.config = config\n",
    "\n",
    "#     def train_test_spliting(self):\n",
    "#         # Step 1: Read Data\n",
    "#         data = pd.read_csv(self.config.data_path)\n",
    "#         logger.info(\"Data loaded successfully\")\n",
    "\n",
    "#         # Step 2: Basic EDA\n",
    "#         logger.info(f\"Data Head:\\n{data.head()}\")\n",
    "#         logger.info(f\"Data Summary:\\n{data.describe()}\")\n",
    "#         logger.info(f\"Missing Values:\\n{data.isnull().sum()}\")\n",
    "\n",
    "#         # Step 3: Drop missing values (or you can fill them)\n",
    "#         data = data.dropna()\n",
    "#         logger.info(\"Missing values dropped\")\n",
    "\n",
    "#         # Step 4: Separate features and target (assume last column is target)\n",
    "#         X = data.iloc[:, :-1]   # All columns except last\n",
    "#         y = data.iloc[:, -1]    # Last column (target)\n",
    "\n",
    "#         # Step 5: Scale the features using MinMaxScaler\n",
    "#         scaler = MinMaxScaler()\n",
    "#         X_scaled = scaler.fit_transform(X)\n",
    "#         logger.info(\"Features scaled using MinMaxScaler\")\n",
    "\n",
    "#         # Step 6: Apply PCA (reduce to 2 components)\n",
    "#         pca = PCA(n_components=2)\n",
    "#         X_pca = pca.fit_transform(X_scaled)\n",
    "#         logger.info(\"PCA applied, reduced to 2 features\")\n",
    "\n",
    "#         # Step 7: Combine X_pca and target again\n",
    "#         df_pca = pd.DataFrame(X_pca, columns=[\"PCA1\", \"PCA2\"])\n",
    "#         df_pca[\"target\"] = y.reset_index(drop=True)\n",
    "\n",
    "#         # Step 8: Split the data into training and test sets\n",
    "#         train, test = train_test_split(df_pca, test_size=0.25, random_state=42)\n",
    "\n",
    "#         # Step 9: Save the train and test datasets\n",
    "#         train.to_csv(os.path.join(self.config.root_dir, \"train.csv\"), index=False)\n",
    "#         test.to_csv(os.path.join(self.config.root_dir, \"test.csv\"), index=False)\n",
    "\n",
    "#         logger.info(\"Splitted and saved train/test data successfully\")\n",
    "#         logger.info(f\"Train Shape: {train.shape}\")\n",
    "#         logger.info(f\"Test Shape: {test.shape}\")\n",
    "\n",
    "#         print(train.shape)\n",
    "#         print(test.shape)\n"
   ]
  },
  {
   "cell_type": "code",
   "execution_count": 10,
   "id": "2e2c35c6",
   "metadata": {},
   "outputs": [
    {
     "name": "stdout",
     "output_type": "stream",
     "text": [
      "[2025-05-27 06:08:51,583: INFO: common: YAML file: config\\config.yaml loaded successfully]\n",
      "[2025-05-27 06:08:51,599: INFO: common: YAML file: params.yaml loaded successfully]\n",
      "[2025-05-27 06:08:51,623: INFO: common: YAML file: schema.yaml loaded successfully]\n",
      "[2025-05-27 06:08:51,629: INFO: common: Created directory at: artifacts]\n",
      "[2025-05-27 06:08:51,635: INFO: common: Created directory at: artifacts/data_transformation]\n",
      "[2025-05-27 06:08:51,728: INFO: 3887582809: Splited data into training and test sets]\n",
      "[2025-05-27 06:08:51,732: INFO: 3887582809: (1199, 12)]\n",
      "[2025-05-27 06:08:51,737: INFO: 3887582809: (400, 12)]\n",
      "(1199, 12)\n",
      "(400, 12)\n"
     ]
    }
   ],
   "source": [
    "# this code belong from pipeline/data_transformation.py file\n",
    "\n",
    "try:\n",
    "    config = ConfigurationManager()\n",
    "    data_transformation_config = config.get_data_transformation_config()\n",
    "    data_transformation = DataTransformation(config = data_transformation_config)\n",
    "    data_transformation.train_test_spliting()\n",
    "except Exception as e:\n",
    "    raise e\n",
    "\n",
    "# from mlProject import logger\n",
    "\n",
    "# try:\n",
    "#     # Step 1: Configuration object\n",
    "#     config_manager = ConfigurationManager()\n",
    "\n",
    "#     # Step 2: Get Data Transformation Config\n",
    "#     data_transform_config = config_manager.get_data_transformation_config()\n",
    "\n",
    "#     # Step 3: Run Data Transformation\n",
    "#     data_transformer = DataTransformation(config=data_transform_config)\n",
    "#     data_transformer.train_test_spliting()\n",
    "\n",
    "#     logger.info(\"Data Transformation pipeline completed successfully.\")\n",
    "\n",
    "# except Exception as e:\n",
    "#     logger.exception(\"Error occurred during data transformation pipeline.\")\n",
    "#     raise\n"
   ]
  }
 ],
 "metadata": {
  "kernelspec": {
   "display_name": "mlproj",
   "language": "python",
   "name": "python3"
  },
  "language_info": {
   "codemirror_mode": {
    "name": "ipython",
    "version": 3
   },
   "file_extension": ".py",
   "mimetype": "text/x-python",
   "name": "python",
   "nbconvert_exporter": "python",
   "pygments_lexer": "ipython3",
   "version": "3.10.16"
  }
 },
 "nbformat": 4,
 "nbformat_minor": 5
}
